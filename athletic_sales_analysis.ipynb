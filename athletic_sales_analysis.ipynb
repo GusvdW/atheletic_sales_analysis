{
 "cells": [
  {
   "cell_type": "code",
   "execution_count": 1,
   "metadata": {},
   "outputs": [],
   "source": [
    "# Import Libraries and Dependencies\n",
    "import pandas as pd"
   ]
  },
  {
   "cell_type": "markdown",
   "metadata": {},
   "source": [
    "### 1. Combine and Clean the Data\n",
    "#### Import CSVs"
   ]
  },
  {
   "cell_type": "code",
   "execution_count": 18,
   "metadata": {},
   "outputs": [],
   "source": [
    "# Read the CSV files into DataFrames.\n",
    "df_atheletic_sales_2020 = pd.read_csv(\"athletic_sales_2020.csv\")\n",
    "df_atheletic_sales_2021 = pd.read_csv(\"athletic_sales_2021.csv\")\n"
   ]
  },
  {
   "cell_type": "code",
   "execution_count": 21,
   "metadata": {},
   "outputs": [
    {
     "name": "stdout",
     "output_type": "stream",
     "text": [
      "         retailer  retailer_id invoice_date     region         state  \\\n",
      "0     Foot Locker      1185732       1/1/20  Northeast      New York   \n",
      "1     Foot Locker      1185732       1/1/20  Northeast  Pennsylvania   \n",
      "2     Foot Locker      1185732       1/1/20  Northeast  Pennsylvania   \n",
      "3     Foot Locker      1185732       1/1/20  Northeast      New York   \n",
      "4     Foot Locker      1185732       1/1/20  Northeast  Pennsylvania   \n",
      "...           ...          ...          ...        ...           ...   \n",
      "1292    West Gear      1128299     12/30/20       West    California   \n",
      "1293    West Gear      1128299     12/30/20       West    California   \n",
      "1294       Kohl's      1189833     12/30/20    Midwest     Minnesota   \n",
      "1295       Kohl's      1189833     12/30/20    Midwest     Minnesota   \n",
      "1296    West Gear      1128299     12/30/20       West    California   \n",
      "\n",
      "               city                  product  price_per_unit  units_sold  \\\n",
      "0          New York    Men's Street Footwear              50        1200   \n",
      "1      Philadelphia          Women's Apparel              68          83   \n",
      "2      Philadelphia          Women's Apparel              75         275   \n",
      "3          New York    Men's Street Footwear              34         384   \n",
      "4      Philadelphia          Women's Apparel              53          83   \n",
      "...             ...                      ...             ...         ...   \n",
      "1292  San Francisco          Women's Apparel              72         203   \n",
      "1293  San Francisco          Women's Apparel              80         700   \n",
      "1294    Minneapolis  Women's Street Footwear              41         119   \n",
      "1295    Minneapolis  Women's Street Footwear              45         475   \n",
      "1296  San Francisco          Women's Apparel              62         245   \n",
      "\n",
      "      total_sales  operating_profit sales_method  \n",
      "0          600000         300000.00     In-store  \n",
      "1            5644           2426.92       Online  \n",
      "2          206250          61875.00       Outlet  \n",
      "3           13056           6789.12       Outlet  \n",
      "4            4399           1407.68       Outlet  \n",
      "...           ...               ...          ...  \n",
      "1292        14616           3946.32       Online  \n",
      "1293       560000          84000.00       Outlet  \n",
      "1294         4879           2878.61       Online  \n",
      "1295       213750          96187.50       Outlet  \n",
      "1296        15190           2886.10       Outlet  \n",
      "\n",
      "[1297 rows x 12 columns]\n"
     ]
    }
   ],
   "source": [
    "# Display the 2020 sales DataFrame\n",
    "print(df_atheletic_sales_2020)\n"
   ]
  },
  {
   "cell_type": "code",
   "execution_count": 22,
   "metadata": {},
   "outputs": [
    {
     "name": "stdout",
     "output_type": "stream",
     "text": [
      "         retailer  retailer_id invoice_date     region         state  \\\n",
      "0       West Gear      1128299       1/1/21       West    California   \n",
      "1       West Gear      1128299       1/1/21       West    California   \n",
      "2          Kohl's      1189833       1/1/21    Midwest       Montana   \n",
      "3          Kohl's      1189833       1/1/21    Midwest       Montana   \n",
      "4       West Gear      1128299       1/1/21       West    California   \n",
      "...           ...          ...          ...        ...           ...   \n",
      "8341  Foot Locker      1185732     12/31/21  Northeast  Pennsylvania   \n",
      "8342  Foot Locker      1185732     12/31/21  Northeast  Pennsylvania   \n",
      "8343       Amazon      1185732     12/31/21  Northeast         Maine   \n",
      "8344       Amazon      1185732     12/31/21  Northeast         Maine   \n",
      "8345  Foot Locker      1185732     12/31/21  Northeast  Pennsylvania   \n",
      "\n",
      "               city                  product  price_per_unit  units_sold  \\\n",
      "0     San Francisco  Men's Athletic Footwear              65         750   \n",
      "1     San Francisco  Men's Athletic Footwear              51         233   \n",
      "2          Billings            Men's Apparel              50         275   \n",
      "3          Billings            Men's Apparel              47          77   \n",
      "4     San Francisco  Men's Athletic Footwear              64         225   \n",
      "...             ...                      ...             ...         ...   \n",
      "8341   Philadelphia            Men's Apparel              63          47   \n",
      "8342   Philadelphia            Men's Apparel              46          56   \n",
      "8343       Portland            Men's Apparel              52          36   \n",
      "8344       Portland            Men's Apparel              55         125   \n",
      "8345   Philadelphia            Men's Apparel              70         175   \n",
      "\n",
      "      total_sales  operating_profit sales_method  \n",
      "0          487500         121875.00       Outlet  \n",
      "1           11883           3208.41       Outlet  \n",
      "2          137500          82500.00       Outlet  \n",
      "3            3619           2714.25       Online  \n",
      "4           14400           5184.00       Online  \n",
      "...           ...               ...          ...  \n",
      "8341         2961           1362.06       Online  \n",
      "8342         2576           1004.64       Outlet  \n",
      "8343         1872            692.64       Online  \n",
      "8344        68750          17187.50       Outlet  \n",
      "8345       122500          42875.00       Outlet  \n",
      "\n",
      "[8346 rows x 12 columns]\n"
     ]
    }
   ],
   "source": [
    "# Display the 2021 sales DataFrame\n",
    "print(df_atheletic_sales_2021)"
   ]
  },
  {
   "cell_type": "markdown",
   "metadata": {},
   "source": [
    "#### Check the data types of each DataFrame"
   ]
  },
  {
   "cell_type": "code",
   "execution_count": 23,
   "metadata": {},
   "outputs": [
    {
     "name": "stdout",
     "output_type": "stream",
     "text": [
      "retailer             object\n",
      "retailer_id           int64\n",
      "invoice_date         object\n",
      "region               object\n",
      "state                object\n",
      "city                 object\n",
      "product              object\n",
      "price_per_unit        int64\n",
      "units_sold            int64\n",
      "total_sales           int64\n",
      "operating_profit    float64\n",
      "sales_method         object\n",
      "dtype: object\n"
     ]
    }
   ],
   "source": [
    "# Check the 2020 sales data types.\n",
    "print(df_atheletic_sales_2020.dtypes)"
   ]
  },
  {
   "cell_type": "code",
   "execution_count": 26,
   "metadata": {},
   "outputs": [
    {
     "name": "stdout",
     "output_type": "stream",
     "text": [
      "retailer             object\n",
      "retailer_id           int64\n",
      "invoice_date         object\n",
      "region               object\n",
      "state                object\n",
      "city                 object\n",
      "product              object\n",
      "price_per_unit        int64\n",
      "units_sold            int64\n",
      "total_sales           int64\n",
      "operating_profit    float64\n",
      "sales_method         object\n",
      "dtype: object\n"
     ]
    }
   ],
   "source": [
    "# Check the 2021 sales data types.\n",
    "print(df_atheletic_sales_2021.dtypes)"
   ]
  },
  {
   "cell_type": "markdown",
   "metadata": {},
   "source": [
    "#### Combine the sales data by rows."
   ]
  },
  {
   "cell_type": "code",
   "execution_count": 30,
   "metadata": {},
   "outputs": [
    {
     "name": "stdout",
     "output_type": "stream",
     "text": [
      "         retailer  retailer_id invoice_date     region         state  \\\n",
      "0     Foot Locker      1185732       1/1/20  Northeast      New York   \n",
      "1     Foot Locker      1185732       1/1/20  Northeast  Pennsylvania   \n",
      "2     Foot Locker      1185732       1/1/20  Northeast  Pennsylvania   \n",
      "3     Foot Locker      1185732       1/1/20  Northeast      New York   \n",
      "4     Foot Locker      1185732       1/1/20  Northeast  Pennsylvania   \n",
      "...           ...          ...          ...        ...           ...   \n",
      "2589    West Gear      1128299     12/30/20       West    California   \n",
      "2590    West Gear      1128299     12/30/20       West    California   \n",
      "2591       Kohl's      1189833     12/30/20    Midwest     Minnesota   \n",
      "2592       Kohl's      1189833     12/30/20    Midwest     Minnesota   \n",
      "2593    West Gear      1128299     12/30/20       West    California   \n",
      "\n",
      "               city                  product  price_per_unit  units_sold  \\\n",
      "0          New York    Men's Street Footwear              50        1200   \n",
      "1      Philadelphia          Women's Apparel              68          83   \n",
      "2      Philadelphia          Women's Apparel              75         275   \n",
      "3          New York    Men's Street Footwear              34         384   \n",
      "4      Philadelphia          Women's Apparel              53          83   \n",
      "...             ...                      ...             ...         ...   \n",
      "2589  San Francisco          Women's Apparel              72         203   \n",
      "2590  San Francisco          Women's Apparel              80         700   \n",
      "2591    Minneapolis  Women's Street Footwear              41         119   \n",
      "2592    Minneapolis  Women's Street Footwear              45         475   \n",
      "2593  San Francisco          Women's Apparel              62         245   \n",
      "\n",
      "      total_sales  operating_profit sales_method  \n",
      "0          600000         300000.00     In-store  \n",
      "1            5644           2426.92       Online  \n",
      "2          206250          61875.00       Outlet  \n",
      "3           13056           6789.12       Outlet  \n",
      "4            4399           1407.68       Outlet  \n",
      "...           ...               ...          ...  \n",
      "2589        14616           3946.32       Online  \n",
      "2590       560000          84000.00       Outlet  \n",
      "2591         4879           2878.61       Online  \n",
      "2592       213750          96187.50       Outlet  \n",
      "2593        15190           2886.10       Outlet  \n",
      "\n",
      "[2594 rows x 12 columns]\n"
     ]
    }
   ],
   "source": [
    "# Combine the 2020 and 2021 sales DataFrames on the rows and reset the index.\n",
    "df_combined_sales = pd.concat([df_atheletic_sales_2020, df_atheletic_sales_2020], axis=0)\n",
    "df_combined_sales = df_combined_sales.reset_index(drop=True)\n",
    "print(df_combined_sales)"
   ]
  },
  {
   "cell_type": "code",
   "execution_count": 35,
   "metadata": {},
   "outputs": [
    {
     "name": "stdout",
     "output_type": "stream",
     "text": [
      "False\n"
     ]
    }
   ],
   "source": [
    "# Check if any values are null.\n",
    "has_nulls = df_combined_sales.isnull().any().any()\n",
    "print(has_nulls)"
   ]
  },
  {
   "cell_type": "code",
   "execution_count": 36,
   "metadata": {},
   "outputs": [
    {
     "name": "stdout",
     "output_type": "stream",
     "text": [
      "retailer             object\n",
      "retailer_id           int64\n",
      "invoice_date         object\n",
      "region               object\n",
      "state                object\n",
      "city                 object\n",
      "product              object\n",
      "price_per_unit        int64\n",
      "units_sold            int64\n",
      "total_sales           int64\n",
      "operating_profit    float64\n",
      "sales_method         object\n",
      "dtype: object\n"
     ]
    }
   ],
   "source": [
    "# Check the data type of each column\n",
    "print(df_combined_sales.dtypes)"
   ]
  },
  {
   "cell_type": "code",
   "execution_count": 40,
   "metadata": {},
   "outputs": [
    {
     "name": "stdout",
     "output_type": "stream",
     "text": [
      "         retailer  retailer_id invoice_date     region         state  \\\n",
      "0     Foot Locker      1185732   2020-01-01  Northeast      New York   \n",
      "1     Foot Locker      1185732   2020-01-01  Northeast  Pennsylvania   \n",
      "2     Foot Locker      1185732   2020-01-01  Northeast  Pennsylvania   \n",
      "3     Foot Locker      1185732   2020-01-01  Northeast      New York   \n",
      "4     Foot Locker      1185732   2020-01-01  Northeast  Pennsylvania   \n",
      "...           ...          ...          ...        ...           ...   \n",
      "2589    West Gear      1128299   2020-12-30       West    California   \n",
      "2590    West Gear      1128299   2020-12-30       West    California   \n",
      "2591       Kohl's      1189833   2020-12-30    Midwest     Minnesota   \n",
      "2592       Kohl's      1189833   2020-12-30    Midwest     Minnesota   \n",
      "2593    West Gear      1128299   2020-12-30       West    California   \n",
      "\n",
      "               city                  product  price_per_unit  units_sold  \\\n",
      "0          New York    Men's Street Footwear              50        1200   \n",
      "1      Philadelphia          Women's Apparel              68          83   \n",
      "2      Philadelphia          Women's Apparel              75         275   \n",
      "3          New York    Men's Street Footwear              34         384   \n",
      "4      Philadelphia          Women's Apparel              53          83   \n",
      "...             ...                      ...             ...         ...   \n",
      "2589  San Francisco          Women's Apparel              72         203   \n",
      "2590  San Francisco          Women's Apparel              80         700   \n",
      "2591    Minneapolis  Women's Street Footwear              41         119   \n",
      "2592    Minneapolis  Women's Street Footwear              45         475   \n",
      "2593  San Francisco          Women's Apparel              62         245   \n",
      "\n",
      "      total_sales  operating_profit sales_method  \n",
      "0          600000         300000.00     In-store  \n",
      "1            5644           2426.92       Online  \n",
      "2          206250          61875.00       Outlet  \n",
      "3           13056           6789.12       Outlet  \n",
      "4            4399           1407.68       Outlet  \n",
      "...           ...               ...          ...  \n",
      "2589        14616           3946.32       Online  \n",
      "2590       560000          84000.00       Outlet  \n",
      "2591         4879           2878.61       Online  \n",
      "2592       213750          96187.50       Outlet  \n",
      "2593        15190           2886.10       Outlet  \n",
      "\n",
      "[2594 rows x 12 columns]\n"
     ]
    }
   ],
   "source": [
    "# Convert the \"invoice_date\" to a datetime datatype\n",
    "df_combined_sales[\"invoice_date\"] = pd.to_datetime(df_combined_sales[\"invoice_date\"])\n",
    "print(df_combined_sales)"
   ]
  },
  {
   "cell_type": "code",
   "execution_count": 41,
   "metadata": {},
   "outputs": [
    {
     "name": "stdout",
     "output_type": "stream",
     "text": [
      "retailer                    object\n",
      "retailer_id                  int64\n",
      "invoice_date        datetime64[ns]\n",
      "region                      object\n",
      "state                       object\n",
      "city                        object\n",
      "product                     object\n",
      "price_per_unit               int64\n",
      "units_sold                   int64\n",
      "total_sales                  int64\n",
      "operating_profit           float64\n",
      "sales_method                object\n",
      "dtype: object\n"
     ]
    }
   ],
   "source": [
    "# Confirm that the \"invoice_date\" data type has been changed.\n",
    "print(df_combined_sales.dtypes)"
   ]
  },
  {
   "cell_type": "markdown",
   "metadata": {},
   "source": [
    "### 2. Determine which Region Sold the Most Products"
   ]
  },
  {
   "cell_type": "markdown",
   "metadata": {
    "vscode": {
     "languageId": "javascript"
    }
   },
   "source": [
    "#### Using `groupby`"
   ]
  },
  {
   "cell_type": "code",
   "execution_count": 87,
   "metadata": {},
   "outputs": [
    {
     "name": "stdout",
     "output_type": "stream",
     "text": [
      "      region     state       city  Total_Products_Sold\n",
      "1  Northeast  New York   New York                  432\n",
      "3      South     Texas    Houston                  432\n",
      "7       West    Nevada  Las Vegas                  432\n",
      "4  Southeast   Florida      Miami                  288\n",
      "6       West  Colorado     Denver                  288\n"
     ]
    }
   ],
   "source": [
    "# Show the number products sold for region, state, and city.\n",
    "# Rename the sum to \"Total_Products_Sold\".\n",
    "df_sorted_group = df_combined_sales.groupby([\"region\", \"state\", \"city\"]).size().reset_index(name=\"Total_Products_Sold\")\n",
    "\n",
    "\n",
    "# Show the top 5 results.\n",
    "df_sorted_group = df_sorted_group.sort_values(by=\"Total_Products_Sold\", ascending=False)\n",
    "top_5_results = df_sorted_group.head(5)\n",
    "print(top_5_results)"
   ]
  },
  {
   "cell_type": "markdown",
   "metadata": {},
   "source": [
    "#### Using `pivot_table`                                                   "
   ]
  },
  {
   "cell_type": "code",
   "execution_count": 98,
   "metadata": {},
   "outputs": [
    {
     "name": "stdout",
     "output_type": "stream",
     "text": [
      "      region       state           city  0\n",
      "5       West  California  San Francisco  1\n",
      "6       West    Colorado         Denver  1\n",
      "7       West      Nevada      Las Vegas  1\n",
      "8       West  Washington        Seattle  1\n",
      "4  Southeast     Florida          Miami  1\n"
     ]
    }
   ],
   "source": [
    "# Show the number products sold for region, state, and city.\n",
    "# Rename the sum to \"Total_Products_Sold\".\n",
    "pivot_table = df_sorted_group.pivot_table(index=[\"region\", \"state\", \"city\"], aggfunc=\"size\")\n",
    "pivot_table.rename({\"units_sold\": \"Total_Products_Sold\"}, inplace=True)\n",
    "\n",
    "# Show the top 5 results.\n",
    "pivot_table = pivot_table.reset_index()\n",
    "top_5_results = pivot_table.sort_values(by=pivot_table.columns[0], ascending=False).head(5)\n",
    "print(top_5_results)"
   ]
  },
  {
   "cell_type": "markdown",
   "metadata": {},
   "source": [
    "### 3. Determine which Region had the Most Sales"
   ]
  },
  {
   "cell_type": "markdown",
   "metadata": {},
   "source": [
    "#### Using `groupby`"
   ]
  },
  {
   "cell_type": "code",
   "execution_count": 111,
   "metadata": {},
   "outputs": [
    {
     "name": "stdout",
     "output_type": "stream",
     "text": [
      "      region       state      city  Total Sales\n",
      "1  Northeast    New York  New York     79602470\n",
      "4  Southeast     Florida     Miami     63201726\n",
      "8       West  Washington   Seattle     52661436\n",
      "3      South       Texas   Houston     50913764\n",
      "6       West    Colorado    Denver     41993072\n"
     ]
    }
   ],
   "source": [
    "# Show the total sales for the products sold for each region, state, and city.\n",
    "# Rename the \"total_sales\" column to \"Total Sales\"\n",
    "grouped_sales = df_combined_sales.groupby([\"region\", \"state\", \"city\"])[\"total_sales\"].sum().reset_index()\n",
    "grouped_sales.rename(columns={\"total_sales\": \"Total Sales\"}, inplace=True)\n",
    "\n",
    "# Show the top 5 results.\n",
    "sorted_grouped_sales = grouped_sales.sort_values(by=\"Total Sales\", ascending=False)\n",
    "top_5_results = sorted_grouped_sales.head(5)\n",
    "print(top_5_results)"
   ]
  },
  {
   "cell_type": "markdown",
   "metadata": {},
   "source": [
    "#### Using `pivot_table`"
   ]
  },
  {
   "cell_type": "code",
   "execution_count": 143,
   "metadata": {},
   "outputs": [
    {
     "name": "stdout",
     "output_type": "stream",
     "text": [
      "                                     Total Sales\n",
      "region    state        city                     \n",
      "Midwest   Minnesota    Minneapolis      14455012\n",
      "Northeast New York     New York         79602470\n",
      "          Pennsylvania Philadelphia      1896948\n",
      "South     Texas        Houston          50913764\n",
      "Southeast Florida      Miami            63201726\n"
     ]
    }
   ],
   "source": [
    "# Show the total sales for the products sold for each region, state, and city.\n",
    "pivot_table = grouped_sales.pivot_table(index=[\"region\", \"state\", \"city\"], aggfunc=\"sum\")\n",
    "\n",
    "\n",
    "# Optional: Rename the \"total_sales\" column to \"Total Sales\"\n",
    "pivot_table.rename({\"total_sales\": \"Total_Sales\"}, inplace=True)\n",
    "\n",
    "# Show the top 5 results.\n",
    "top_5_results = pivot_table.head(5)\n",
    "print(top_5_results)"
   ]
  },
  {
   "cell_type": "markdown",
   "metadata": {},
   "source": [
    "### 4. Determine which Retailer had the Most Sales"
   ]
  },
  {
   "cell_type": "markdown",
   "metadata": {},
   "source": [
    "#### Using `groupby`"
   ]
  },
  {
   "cell_type": "code",
   "execution_count": 149,
   "metadata": {},
   "outputs": [
    {
     "name": "stdout",
     "output_type": "stream",
     "text": [
      "       retailer     region       state       city  Total Sales\n",
      "1   Foot Locker  Northeast    New York   New York   50017136.0\n",
      "17    West Gear       West  Washington    Seattle   49725350.0\n",
      "15    West Gear       West    Colorado     Denver   41993072.0\n",
      "16    West Gear       West      Nevada  Las Vegas   41717018.0\n",
      "10      Walmart      South       Texas    Houston   38345990.0\n"
     ]
    }
   ],
   "source": [
    "# Show the total sales for the products sold for each retailer, region, state, and city.\n",
    "# Rename the \"total_sales\" column to \"Total Sales\"\n",
    "grouped_sales = df_combined_sales.groupby([\"retailer\", \"region\", \"state\", \"city\"])[\"total_sales\"].sum().reset_index()\n",
    "grouped_sales.rename(columns={\"total_sales\": \"Total Sales\"}, inplace=True)\n",
    "# Show the top 5 results.\n",
    "sorted_grouped_sales = grouped_sales.sort_values(by=\"Total Sales\", ascending=False)\n",
    "top_5_results = sorted_grouped_sales.head(5)\n",
    "print(top_5_results)"
   ]
  },
  {
   "cell_type": "markdown",
   "metadata": {},
   "source": [
    "#### Using `pivot_table`"
   ]
  },
  {
   "cell_type": "code",
   "execution_count": 153,
   "metadata": {},
   "outputs": [
    {
     "name": "stdout",
     "output_type": "stream",
     "text": [
      "                                                   Total Sales\n",
      "region    retailer      state        city                     \n",
      "Midwest   Foot Locker   Minnesota    Minneapolis    13239130.0\n",
      "          Kohl's        Minnesota    Minneapolis     1215882.0\n",
      "Northeast Foot Locker   New York     New York       50017136.0\n",
      "                        Pennsylvania Philadelphia     432586.0\n",
      "          Sports Direct New York     New York        2161324.0\n"
     ]
    }
   ],
   "source": [
    "# Show the total sales for the products sold for each retailer, region, state, and city.\n",
    "pivot_table = grouped_sales.pivot_table(index=[\"region\",\"retailer\", \"state\", \"city\"], aggfunc=\"sum\")\n",
    "\n",
    "# Optional: Rename the \"total_sales\" column to \"Total Sales\"\n",
    "pivot_table.rename({\"total_sales\": \"Total Sales\"}, inplace=True)\n",
    "\n",
    "# Show the top 5 results.\n",
    "top_5_results = pivot_table.head()\n",
    "print(top_5_results)"
   ]
  },
  {
   "cell_type": "markdown",
   "metadata": {},
   "source": [
    "### 5. Determine which Retailer Sold the Most Women's Athletic Footwear"
   ]
  },
  {
   "cell_type": "code",
   "execution_count": 157,
   "metadata": {},
   "outputs": [
    {
     "name": "stdout",
     "output_type": "stream",
     "text": [
      "         retailer  retailer_id invoice_date     region         state  \\\n",
      "21    Foot Locker      1185732   2020-01-04  Northeast      New York   \n",
      "22    Foot Locker      1185732   2020-01-04  Northeast      New York   \n",
      "23    Foot Locker      1185732   2020-01-04  Northeast      New York   \n",
      "26      West Gear      1128299   2020-01-05  Northeast  Pennsylvania   \n",
      "27      West Gear      1128299   2020-01-05  Northeast  Pennsylvania   \n",
      "...           ...          ...          ...        ...           ...   \n",
      "2565  Foot Locker      1185732   2020-12-25    Midwest     Minnesota   \n",
      "2568  Foot Locker      1185732   2020-12-25    Midwest     Minnesota   \n",
      "2579    West Gear      1128299   2020-12-28       West    California   \n",
      "2580    West Gear      1128299   2020-12-28       West    California   \n",
      "2581    West Gear      1128299   2020-12-28       West    California   \n",
      "\n",
      "               city                    product  price_per_unit  units_sold  \\\n",
      "21         New York  Women's Athletic Footwear              36         281   \n",
      "22         New York  Women's Athletic Footwear              41         247   \n",
      "23         New York  Women's Athletic Footwear              45         850   \n",
      "26     Philadelphia  Women's Athletic Footwear              45         300   \n",
      "27     Philadelphia  Women's Athletic Footwear              34          90   \n",
      "...             ...                        ...             ...         ...   \n",
      "2565    Minneapolis  Women's Athletic Footwear              45         175   \n",
      "2568    Minneapolis  Women's Athletic Footwear              44          49   \n",
      "2579  San Francisco  Women's Athletic Footwear              60         625   \n",
      "2580  San Francisco  Women's Athletic Footwear              48         188   \n",
      "2581  San Francisco  Women's Athletic Footwear              54         188   \n",
      "\n",
      "      total_sales  operating_profit sales_method  \n",
      "21        10116.0           3742.92       Outlet  \n",
      "22        10127.0           4658.42       Online  \n",
      "23       382500.0         133875.00     In-store  \n",
      "26       135000.0          47250.00       Outlet  \n",
      "27         3060.0           1254.60       Outlet  \n",
      "...           ...               ...          ...  \n",
      "2565      78750.0          27562.50       Outlet  \n",
      "2568       2156.0           1056.44       Online  \n",
      "2579     375000.0         112500.00       Outlet  \n",
      "2580       9024.0           3068.16       Outlet  \n",
      "2581      10152.0           4162.32       Online  \n",
      "\n",
      "[428 rows x 12 columns]\n"
     ]
    }
   ],
   "source": [
    "# Filter the sales data to get the women's athletic footwear sales \n",
    "womens_athletic_footwear_sales = df_combined_sales[df_combined_sales[\"product\"] == \"Women's Athletic Footwear\"]\n",
    "print (womens_athletic_footwear_sales)"
   ]
  },
  {
   "cell_type": "markdown",
   "metadata": {},
   "source": [
    "#### Using `groupby`"
   ]
  },
  {
   "cell_type": "code",
   "execution_count": null,
   "metadata": {},
   "outputs": [],
   "source": [
    "# Show the total number of women's athletic footwear sold for each retailer, region, state, and city.\n",
    "# Rename the \"units_sold\" column to \"Womens_Footwear_Units_Sold\"\n",
    "grouped_sales = womens_athletic_footwear_sales.groupby([\"retailer\", \"region\", \"state\", \"city\"])[\"units_sold\"].sum().reset_index()\n",
    "grouped_sales.rename(columns={\"units_sold\": \"Womens_Footwear_Units_Sold\"})\n",
    "# Show the top 5 results.\n",
    "sorted_grouped_sales = grouped_sales.sort_values(by=\"Womens_Footwear_Units_Sold\", ascending=False)\n",
    "top_5_results = sorted_grouped_sales.head(5)\n",
    "print(top_5_results)\n"
   ]
  },
  {
   "cell_type": "markdown",
   "metadata": {},
   "source": [
    "#### Using `pivot_table`"
   ]
  },
  {
   "cell_type": "code",
   "execution_count": 174,
   "metadata": {},
   "outputs": [
    {
     "name": "stdout",
     "output_type": "stream",
     "text": [
      "       region     retailer       state       city  Total_Units_Sold\n",
      "1   Northeast  Foot Locker    New York   New York             21992\n",
      "6       South      Walmart       Texas    Houston             17432\n",
      "14       West    West Gear      Nevada  Las Vegas             14154\n",
      "15       West    West Gear  Washington    Seattle             11618\n",
      "13       West    West Gear    Colorado     Denver             11394\n"
     ]
    }
   ],
   "source": [
    "# Show the total number of women's athletic footwear sold for each retailer, region, state, and city.\n",
    "pivot_table = womens_athletic_footwear_sales.pivot_table(\n",
    "    index=[\"region\", \"retailer\", \"state\", \"city\"],\n",
    "    values=\"units_sold\",\n",
    "    aggfunc=\"sum\"\n",
    ")\n",
    "# Rename the \"units_sold\" column to \"Womens_Footwear_Units_Sold\"\n",
    "pivot_table.rename(columns={'units_sold': 'Total_Units_Sold'}, inplace=True)\n",
    "\n",
    "# Show the top 5 results.\n",
    "pivot_table_df = pivot_table.reset_index()\n",
    "sorted_pivot_table_df = pivot_table_df.sort_values(by=\"Total_Units_Sold\", ascending=False)\n",
    "top_5_results = sorted_pivot_table_df.head(5)\n",
    "print(top_5_results)"
   ]
  },
  {
   "cell_type": "markdown",
   "metadata": {},
   "source": [
    "### 6. Determine the Day with the Most Women's Athletic Footwear Sales"
   ]
  },
  {
   "cell_type": "code",
   "execution_count": 177,
   "metadata": {},
   "outputs": [
    {
     "name": "stdout",
     "output_type": "stream",
     "text": [
      "              total_sales\n",
      "invoice_date             \n",
      "2020-01-01      1690282.0\n",
      "2020-01-02      1378820.0\n",
      "2020-01-03      1265146.0\n",
      "2020-01-04      1230160.0\n",
      "2020-01-05      1415658.0\n",
      "...                   ...\n",
      "2020-12-26      1121956.0\n",
      "2020-12-27      1331064.0\n",
      "2020-12-28      1128468.0\n",
      "2020-12-29      1153796.0\n",
      "2020-12-30      1616870.0\n",
      "\n",
      "[358 rows x 1 columns]\n"
     ]
    }
   ],
   "source": [
    "# Create a pivot table with the 'invoice_date' column is the index, and the \"total_sales\" as the values.\n",
    "pivot_table = df_combined_sales.pivot_table(\n",
    "    index=\"invoice_date\",\n",
    "    values=\"total_sales\",\n",
    "    aggfunc=\"sum\"\n",
    ")\n",
    "\n",
    "# Optional: Rename the \"total_sales\" column to \"Total Sales\"\n",
    "\n",
    "\n",
    "# Show the table.\n",
    "print(pivot_table)"
   ]
  },
  {
   "cell_type": "code",
   "execution_count": 179,
   "metadata": {},
   "outputs": [
    {
     "name": "stdout",
     "output_type": "stream",
     "text": [
      "              total_sales\n",
      "invoice_date             \n",
      "2020-04-24     14101964.0\n",
      "2020-05-24      7172882.0\n",
      "2020-04-27      2608050.0\n",
      "2020-04-19      2604690.0\n",
      "2020-02-06      2537736.0\n",
      "...                   ...\n",
      "2020-10-16            0.0\n",
      "2020-10-13            0.0\n",
      "2020-10-11            0.0\n",
      "2020-02-29            0.0\n",
      "2020-10-14            0.0\n",
      "\n",
      "[365 rows x 1 columns]\n"
     ]
    }
   ],
   "source": [
    "# Resample the pivot table into daily bins, and get the total sales for each day.\n",
    "daily_sales = pivot_table.resample(\"D\").sum()\n",
    "\n",
    "# Sort the resampled pivot table in descending order on \"Total Sales\".\n",
    "sorted_daily_sales = daily_sales.sort_values(by=\"total_sales\", ascending=False)\n",
    "print(sorted_daily_sales)"
   ]
  },
  {
   "cell_type": "markdown",
   "metadata": {},
   "source": [
    "### 7.  Determine the Week with the Most Women's Athletic Footwear Sales"
   ]
  },
  {
   "cell_type": "code",
   "execution_count": 181,
   "metadata": {},
   "outputs": [
    {
     "name": "stdout",
     "output_type": "stream",
     "text": [
      "              total_sales\n",
      "invoice_date             \n",
      "2020-04-26     26331646.0\n",
      "2020-05-03     14699084.0\n",
      "2020-03-15     13439494.0\n",
      "2020-09-13     13019306.0\n",
      "2020-02-09     12469902.0\n",
      "2020-05-24     11836642.0\n",
      "2020-03-08     11543130.0\n",
      "2020-02-02     10706378.0\n",
      "2020-08-23     10462180.0\n",
      "2020-08-02     10206778.0\n",
      "2020-08-09      9734020.0\n",
      "2020-01-26      9663644.0\n",
      "2020-09-20      9637046.0\n",
      "2020-08-16      9572676.0\n",
      "2020-04-19      9475424.0\n",
      "2020-05-10      8518702.0\n",
      "2020-07-26      7978716.0\n",
      "2020-07-05      7523482.0\n",
      "2020-12-27      7313400.0\n",
      "2020-07-12      7151674.0\n",
      "2020-01-05      6980066.0\n",
      "2020-07-19      6923086.0\n",
      "2020-11-01      6673476.0\n",
      "2020-11-15      6511852.0\n",
      "2020-10-04      6510802.0\n",
      "2020-02-16      6470248.0\n",
      "2020-09-27      6230190.0\n",
      "2020-11-08      5974412.0\n",
      "2020-03-22      5963032.0\n",
      "2020-10-25      5947650.0\n",
      "2020-10-11      5796908.0\n",
      "2020-01-12      5675692.0\n",
      "2020-08-30      5661898.0\n",
      "2020-09-06      5506218.0\n",
      "2020-06-28      5478346.0\n",
      "2020-02-23      4650150.0\n",
      "2021-01-03      3899134.0\n",
      "2020-04-05      3809578.0\n",
      "2020-05-17      3638836.0\n",
      "2020-06-14      3604144.0\n",
      "2020-06-21      3573746.0\n",
      "2020-03-01      3541590.0\n",
      "2020-05-31      3255560.0\n",
      "2020-04-12      2981690.0\n",
      "2020-06-07      2963010.0\n",
      "2020-01-19      2821276.0\n",
      "2020-03-29      2402898.0\n",
      "2020-11-29      2048840.0\n",
      "2020-11-22      1855210.0\n",
      "2020-12-06      1479346.0\n",
      "2020-12-20      1180454.0\n",
      "2020-12-13       932644.0\n",
      "2020-10-18       502936.0\n"
     ]
    }
   ],
   "source": [
    "# Resample the pivot table into weekly bins, and get the total sales for each week.\n",
    "weekly_sales = pivot_table.resample(\"W\").sum()\n",
    "\n",
    "# Sort the resampled pivot table in descending order on \"Total Sales\".\n",
    "sorted_weekly_sales = weekly_sales.sort_values(by=\"total_sales\", ascending=False)\n",
    "print(sorted_weekly_sales)"
   ]
  },
  {
   "cell_type": "code",
   "execution_count": null,
   "metadata": {},
   "outputs": [],
   "source": []
  }
 ],
 "metadata": {
  "kernelspec": {
   "display_name": "Python 3 (ipykernel)",
   "language": "python",
   "name": "python3"
  },
  "language_info": {
   "codemirror_mode": {
    "name": "ipython",
    "version": 3
   },
   "file_extension": ".py",
   "mimetype": "text/x-python",
   "name": "python",
   "nbconvert_exporter": "python",
   "pygments_lexer": "ipython3",
   "version": "3.10.14"
  }
 },
 "nbformat": 4,
 "nbformat_minor": 4
}
